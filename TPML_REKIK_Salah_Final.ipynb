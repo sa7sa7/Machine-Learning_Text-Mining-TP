{
 "cells": [
  {
   "cell_type": "markdown",
   "metadata": {},
   "source": [
    "# <center>T P 1 M a c h ine Learning sous Python</center>\n",
    "\n",
    "## Réalisé par : REKIK Salah\n",
    "\n",
    "### I.\tApprentissage non supervisé : Segmentation et Visualisation\n"
   ]
  },
  {
   "cell_type": "code",
   "execution_count": 2,
   "metadata": {
    "collapsed": true
   },
   "outputs": [],
   "source": [
    "import numpy as np\n",
    "np.set_printoptions(threshold=np.nan)\n",
    "import pandas as pd\n",
    "import warnings\n",
    "import matplotlib.pyplot as plt\n",
    "warnings.filterwarnings('ignore')"
   ]
  },
  {
   "cell_type": "markdown",
   "metadata": {},
   "source": [
    "On commencer par utiliser StandardScaler afin de render nos données centrées et réduites. Puis, on applique une analyse en composante principale (PCA) en lui donnent comme paramètre la variance minimale qu’on doit conserver : En effet, quand on réduit les dimensions des données, on perd une portion de la variance."
   ]
  },
  {
   "cell_type": "code",
   "execution_count": 3,
   "metadata": {},
   "outputs": [
    {
     "data": {
      "text/html": [
       "<div>\n",
       "<style>\n",
       "    .dataframe thead tr:only-child th {\n",
       "        text-align: right;\n",
       "    }\n",
       "\n",
       "    .dataframe thead th {\n",
       "        text-align: left;\n",
       "    }\n",
       "\n",
       "    .dataframe tbody tr th {\n",
       "        vertical-align: top;\n",
       "    }\n",
       "</style>\n",
       "<table border=\"1\" class=\"dataframe\">\n",
       "  <thead>\n",
       "    <tr style=\"text-align: right;\">\n",
       "      <th></th>\n",
       "      <th>0</th>\n",
       "      <th>1</th>\n",
       "      <th>2</th>\n",
       "      <th>3</th>\n",
       "      <th>4</th>\n",
       "      <th>5</th>\n",
       "      <th>6</th>\n",
       "      <th>7</th>\n",
       "      <th>8</th>\n",
       "      <th>9</th>\n",
       "      <th>10</th>\n",
       "      <th>11</th>\n",
       "    </tr>\n",
       "  </thead>\n",
       "  <tbody>\n",
       "    <tr>\n",
       "      <th>0</th>\n",
       "      <td>1.638351</td>\n",
       "      <td>1.787480</td>\n",
       "      <td>1.356866</td>\n",
       "      <td>1.167481</td>\n",
       "      <td>1.094137</td>\n",
       "      <td>1.208134</td>\n",
       "      <td>1.117345</td>\n",
       "      <td>1.397672</td>\n",
       "      <td>1.739632</td>\n",
       "      <td>1.932082</td>\n",
       "      <td>1.828366</td>\n",
       "      <td>1.680248</td>\n",
       "    </tr>\n",
       "    <tr>\n",
       "      <th>1</th>\n",
       "      <td>0.116831</td>\n",
       "      <td>0.050009</td>\n",
       "      <td>-0.128545</td>\n",
       "      <td>-0.321480</td>\n",
       "      <td>-0.529421</td>\n",
       "      <td>-0.427044</td>\n",
       "      <td>-0.523707</td>\n",
       "      <td>-0.535854</td>\n",
       "      <td>-0.411302</td>\n",
       "      <td>-0.272588</td>\n",
       "      <td>-0.126546</td>\n",
       "      <td>0.049616</td>\n",
       "    </tr>\n",
       "    <tr>\n",
       "      <th>2</th>\n",
       "      <td>0.290719</td>\n",
       "      <td>0.278624</td>\n",
       "      <td>0.442767</td>\n",
       "      <td>0.287640</td>\n",
       "      <td>0.105884</td>\n",
       "      <td>-0.310246</td>\n",
       "      <td>-0.125876</td>\n",
       "      <td>-0.027031</td>\n",
       "      <td>-0.001600</td>\n",
       "      <td>0.110833</td>\n",
       "      <td>0.106182</td>\n",
       "      <td>0.221262</td>\n",
       "    </tr>\n",
       "    <tr>\n",
       "      <th>3</th>\n",
       "      <td>-1.230801</td>\n",
       "      <td>-1.184509</td>\n",
       "      <td>-0.985513</td>\n",
       "      <td>-0.795241</td>\n",
       "      <td>-0.529421</td>\n",
       "      <td>-0.485443</td>\n",
       "      <td>-0.523707</td>\n",
       "      <td>-0.586736</td>\n",
       "      <td>-0.718578</td>\n",
       "      <td>-0.895647</td>\n",
       "      <td>-1.010910</td>\n",
       "      <td>-1.194813</td>\n",
       "    </tr>\n",
       "    <tr>\n",
       "      <th>4</th>\n",
       "      <td>1.594879</td>\n",
       "      <td>1.467420</td>\n",
       "      <td>1.528260</td>\n",
       "      <td>0.761401</td>\n",
       "      <td>0.247063</td>\n",
       "      <td>0.040149</td>\n",
       "      <td>-0.026418</td>\n",
       "      <td>0.227380</td>\n",
       "      <td>0.817803</td>\n",
       "      <td>1.213168</td>\n",
       "      <td>1.409456</td>\n",
       "      <td>1.465691</td>\n",
       "    </tr>\n",
       "  </tbody>\n",
       "</table>\n",
       "</div>"
      ],
      "text/plain": [
       "         0         1         2         3         4         5         6   \\\n",
       "0  1.638351  1.787480  1.356866  1.167481  1.094137  1.208134  1.117345   \n",
       "1  0.116831  0.050009 -0.128545 -0.321480 -0.529421 -0.427044 -0.523707   \n",
       "2  0.290719  0.278624  0.442767  0.287640  0.105884 -0.310246 -0.125876   \n",
       "3 -1.230801 -1.184509 -0.985513 -0.795241 -0.529421 -0.485443 -0.523707   \n",
       "4  1.594879  1.467420  1.528260  0.761401  0.247063  0.040149 -0.026418   \n",
       "\n",
       "         7         8         9         10        11  \n",
       "0  1.397672  1.739632  1.932082  1.828366  1.680248  \n",
       "1 -0.535854 -0.411302 -0.272588 -0.126546  0.049616  \n",
       "2 -0.027031 -0.001600  0.110833  0.106182  0.221262  \n",
       "3 -0.586736 -0.718578 -0.895647 -1.010910 -1.194813  \n",
       "4  0.227380  0.817803  1.213168  1.409456  1.465691  "
      ]
     },
     "execution_count": 3,
     "metadata": {},
     "output_type": "execute_result"
    }
   ],
   "source": [
    "#Import Data\n",
    "data = pd.read_csv('./villes.csv', sep=';')\n",
    "X = data.ix[:, 1:13].values\n",
    "labels = data.ix[:, 0].values\n",
    "#Standarize Data\n",
    "from sklearn.preprocessing import StandardScaler\n",
    "X = StandardScaler().fit_transform(X)\n",
    "#Visualize Centred Data with variance=1\n",
    "pd.DataFrame(data = X).head()"
   ]
  },
  {
   "cell_type": "code",
   "execution_count": 4,
   "metadata": {},
   "outputs": [
    {
     "name": "stdout",
     "output_type": "stream",
     "text": [
      "[ 0.87268193]\n",
      "1\n",
      "[ 0.87268193  0.11720602]\n",
      "2\n"
     ]
    },
    {
     "data": {
      "text/plain": [
       "array([ 0.39933494,  0.29907184,  0.12943051, -0.11530598, -0.32314291,\n",
       "       -0.35846763, -0.38879639, -0.3010133 , -0.11231622,  0.12249226,\n",
       "        0.26269461,  0.38693688])"
      ]
     },
     "execution_count": 4,
     "metadata": {},
     "output_type": "execute_result"
    }
   ],
   "source": [
    "def doPcaWithMinimumVariance():\n",
    "    from sklearn.decomposition import PCA\n",
    "    pca = PCA(0.7)\n",
    "    pca.fit(X)\n",
    "    return pca\n",
    "pca = doPcaWithMinimumVariance()\n",
    "print(pca.explained_variance_ratio_)\n",
    "print(pca.n_components_)\n",
    "\n",
    "def doPcaWith2Components():\n",
    "    from sklearn.decomposition import PCA\n",
    "    pca_2 = PCA(n_components=2)\n",
    "    pca_2.fit(X)\n",
    "    return pca_2\n",
    "pca_2 = doPcaWith2Components()\n",
    "print(pca_2.explained_variance_ratio_)\n",
    "print(pca_2.n_components_)\n",
    "first_pca = pca_2.components_[0]\n",
    "second_pca = pca_2.components_[1]\n",
    "first_pca\n",
    "second_pca"
   ]
  },
  {
   "cell_type": "markdown",
   "metadata": {},
   "source": [
    "#### 2. • Quel est le nombre d’axes à retenir pour conserver un minimum de 70% de l’information représentée dans le nuage initial ?\n",
    "\n",
    "On obtient comme résultat un seul axe comme nombre à retenir et ceci nous donne 87.26% de la variance réelle.\n",
    "\n",
    "#### 2.1 • Donner une interprétation des deux premiers axes principaux.\n",
    "\n",
    "Pour conserver plus que 90% de la variance réelle des données, il faut avoir au moins deux axes comme directions principales des données. En fait, on définit la méthode doPcaWith2Components() pour avoir 98.9% de la variance selon deux directions principales.\n",
    "On a 12 dimensions (12 mois), et pour chaque dimension, on les températures pour 32 villes différents. En utilisant une PCA en deux composantes principales, on cherche le plan qui respecte le mieux le nuage des données quand on les projette sur ce plan."
   ]
  },
  {
   "cell_type": "code",
   "execution_count": 5,
   "metadata": {},
   "outputs": [
    {
     "data": {
      "image/png": "[encoded data removed]",
      "text/plain": [
       "<matplotlib.figure.Figure at 0x127cf812f28>"
      ]
     },
     "metadata": {},
     "output_type": "display_data"
    }
   ],
   "source": [
    "X_pca = pca_2.transform(X)\n",
    "def doPlotAfterPCA():\n",
    "    import matplotlib\n",
    "    plt.scatter(X_pca[:, 0], X_pca[:, 1])\n",
    "    for label, x, y in zip(labels, X_pca[:, 0], X_pca[:, 1]):\n",
    "        plt.annotate(label, xy=(x, y), xytext=(-0.2, 0.2), textcoords='offset points')\n",
    "    plt.show()\n",
    "doPlotAfterPCA()"
   ]
  },
  {
   "cell_type": "markdown",
   "metadata": {},
   "source": [
    "En visualisant les températures des différentes villes en les projetant selon les deux axes principaux trouvés, on trouve la distribution présentée par la figure ci-dessus.\n",
    "En effet, on remarque qua le premier axe principal oppose Lille à Nice. De plus, le deuxième axe principal oppose Lyon à Brest.\n",
    "On peut interpréter ces deux axes principaux géographiquement : le premier axe présente une direction du Nord au Sud, alors que le deuxième axe principal présente une direction du West à l’Est.\n",
    "\n",
    "#### 3. Faire de même pour le fichier \"crime.csv\"."
   ]
  },
  {
   "cell_type": "code",
   "execution_count": 6,
   "metadata": {},
   "outputs": [
    {
     "data": {
      "text/html": [
       "<div>\n",
       "<style>\n",
       "    .dataframe thead tr:only-child th {\n",
       "        text-align: right;\n",
       "    }\n",
       "\n",
       "    .dataframe thead th {\n",
       "        text-align: left;\n",
       "    }\n",
       "\n",
       "    .dataframe tbody tr th {\n",
       "        vertical-align: top;\n",
       "    }\n",
       "</style>\n",
       "<table border=\"1\" class=\"dataframe\">\n",
       "  <thead>\n",
       "    <tr style=\"text-align: right;\">\n",
       "      <th></th>\n",
       "      <th>0</th>\n",
       "      <th>1</th>\n",
       "      <th>2</th>\n",
       "      <th>3</th>\n",
       "      <th>4</th>\n",
       "      <th>5</th>\n",
       "      <th>6</th>\n",
       "    </tr>\n",
       "  </thead>\n",
       "  <tbody>\n",
       "    <tr>\n",
       "      <th>0</th>\n",
       "      <td>1.764934</td>\n",
       "      <td>-0.050134</td>\n",
       "      <td>-0.312049</td>\n",
       "      <td>0.675094</td>\n",
       "      <td>-0.365337</td>\n",
       "      <td>-1.098488</td>\n",
       "      <td>-0.505749</td>\n",
       "    </tr>\n",
       "    <tr>\n",
       "      <th>1</th>\n",
       "      <td>0.876720</td>\n",
       "      <td>2.428393</td>\n",
       "      <td>-0.312049</td>\n",
       "      <td>0.732527</td>\n",
       "      <td>0.092958</td>\n",
       "      <td>0.972028</td>\n",
       "      <td>1.962772</td>\n",
       "    </tr>\n",
       "    <tr>\n",
       "      <th>2</th>\n",
       "      <td>0.537108</td>\n",
       "      <td>0.794818</td>\n",
       "      <td>0.161307</td>\n",
       "      <td>1.017679</td>\n",
       "      <td>2.462446</td>\n",
       "      <td>2.499415</td>\n",
       "      <td>0.323707</td>\n",
       "    </tr>\n",
       "    <tr>\n",
       "      <th>3</th>\n",
       "      <td>0.354241</td>\n",
       "      <td>0.175187</td>\n",
       "      <td>-0.467548</td>\n",
       "      <td>-0.079601</td>\n",
       "      <td>-0.745847</td>\n",
       "      <td>-1.126041</td>\n",
       "      <td>-1.013974</td>\n",
       "    </tr>\n",
       "    <tr>\n",
       "      <th>4</th>\n",
       "      <td>1.059587</td>\n",
       "      <td>2.221849</td>\n",
       "      <td>1.862644</td>\n",
       "      <td>1.478153</td>\n",
       "      <td>1.979625</td>\n",
       "      <td>1.152932</td>\n",
       "      <td>1.493721</td>\n",
       "    </tr>\n",
       "  </tbody>\n",
       "</table>\n",
       "</div>"
      ],
      "text/plain": [
       "          0         1         2         3         4         5         6\n",
       "0  1.764934 -0.050134 -0.312049  0.675094 -0.365337 -1.098488 -0.505749\n",
       "1  0.876720  2.428393 -0.312049  0.732527  0.092958  0.972028  1.962772\n",
       "2  0.537108  0.794818  0.161307  1.017679  2.462446  2.499415  0.323707\n",
       "3  0.354241  0.175187 -0.467548 -0.079601 -0.745847 -1.126041 -1.013974\n",
       "4  1.059587  2.221849  1.862644  1.478153  1.979625  1.152932  1.493721"
      ]
     },
     "execution_count": 6,
     "metadata": {},
     "output_type": "execute_result"
    }
   ],
   "source": [
    "# Same for crime.csv\n",
    "#Import Data\n",
    "data = pd.read_csv('./crime.csv', sep=';')\n",
    "X_crime = data.ix[:, 1:13].values\n",
    "labels_crime = data.ix[:, 0].values\n",
    "#Standarize Data\n",
    "from sklearn.preprocessing import StandardScaler\n",
    "X_crime = StandardScaler().fit_transform(X_crime)\n",
    "#Visualize Centred Data with variance=1\n",
    "pd.DataFrame(data = X_crime).head()"
   ]
  },
  {
   "cell_type": "code",
   "execution_count": 7,
   "metadata": {},
   "outputs": [
    {
     "name": "stdout",
     "output_type": "stream",
     "text": [
      "[ 0.58785136  0.17696026]\n",
      "2\n",
      "[ 0.58785136  0.17696026]\n",
      "2\n"
     ]
    },
    {
     "data": {
      "text/plain": [
       "array([-0.62917444, -0.16943512,  0.04224698, -0.34352815,  0.20334059,\n",
       "        0.40231912,  0.50242093])"
      ]
     },
     "execution_count": 7,
     "metadata": {},
     "output_type": "execute_result"
    }
   ],
   "source": [
    "def doPcaWithMinimumVariance_crime():\n",
    "    from sklearn.decomposition import PCA\n",
    "    pca_crime_1 = PCA(0.7)\n",
    "    pca_crime_1.fit(X_crime)\n",
    "    return pca_crime_1\n",
    "pca_crime_1 = doPcaWithMinimumVariance_crime()\n",
    "print(pca_crime_1.explained_variance_ratio_)\n",
    "print(pca_crime_1.n_components_)\n",
    "\n",
    "def doPcaWith2Components_crime():\n",
    "    from sklearn.decomposition import PCA\n",
    "    pca_crime = PCA(n_components=2)\n",
    "    pca_crime.fit(X_crime)\n",
    "    return pca_crime\n",
    "pca_crime = doPcaWith2Components_crime()\n",
    "print(pca_crime.explained_variance_ratio_)\n",
    "print(pca_crime.n_components_)\n",
    "first_pca_crime = pca_crime.components_[0]\n",
    "second_pca_crime = pca_crime.components_[1]\n",
    "first_pca_crime\n",
    "second_pca_crime"
   ]
  },
  {
   "cell_type": "code",
   "execution_count": 8,
   "metadata": {},
   "outputs": [
    {
     "data": {
      "image/png": "[encoded data removed]",
      "text/plain": [
       "<matplotlib.figure.Figure at 0x127cfa88470>"
      ]
     },
     "metadata": {},
     "output_type": "display_data"
    }
   ],
   "source": [
    "X_pca_crime = pca_crime.transform(X_crime)\n",
    "def doPlotAfterPCA_crime():\n",
    "    import matplotlib\n",
    "    plt.scatter(X_pca_crime[:, 0], X_pca_crime[:, 1])\n",
    "    for label, x, y in zip(labels_crime, X_pca_crime[:, 0], X_pca_crime[:, 1]):\n",
    "        plt.annotate(label, xy=(x, y), xytext=(-0.2, 0.2), textcoords='offset points')\n",
    "    plt.show()\n",
    "doPlotAfterPCA_crime()"
   ]
  },
  {
   "cell_type": "markdown",
   "metadata": {},
   "source": [
    "On fait la même démarche avec crime.csv. Cette fois, pour conserver 70% de la variance réelle des données, le PCA(.7) donne un nombre d’axe égale 2 axe principaux.\n",
    "On obtient ainsi deux axes principaux : un axe qui oppose Nevada à North-Dakota et un autre axe qui oppose Massachusetts à Mississippi.\n"
   ]
  },
  {
   "cell_type": "markdown",
   "metadata": {},
   "source": [
    "#### 4. • Appliquez la procédure KMeans sur ce jeu de données pour obtenir 3 clusters\n",
    "On applique KMeans sur la base de données des villes. Pour ceci, on choisit 3 clusters comme nombre K pour la méthode KMeans. En utilisant le code de visualisation, on obtient la figure ci-dessous.\n",
    "On remarque que le cluster rouge est proche du cluster de couleur rose. Par contre le cluster bleu est bien loin des deux.\n"
   ]
  },
  {
   "cell_type": "code",
   "execution_count": 9,
   "metadata": {
    "collapsed": true
   },
   "outputs": [],
   "source": [
    "from sklearn.cluster import KMeans\n",
    "clustering = KMeans(n_clusters=3, random_state=0).fit(X_pca)\n",
    "clustering.cluster_centers_\n",
    "clustering = clustering.labels_"
   ]
  },
  {
   "cell_type": "code",
   "execution_count": 10,
   "metadata": {},
   "outputs": [
    {
     "data": {
      "image/png": "[encoded data removed]",
      "text/plain": [
       "<matplotlib.figure.Figure at 0x127d003a710>"
      ]
     },
     "metadata": {},
     "output_type": "display_data"
    }
   ],
   "source": [
    "colors = ['red','yellow','blue','pink']\n",
    "import matplotlib\n",
    "plt.scatter(X_pca[:, 0], X_pca[:, 1], c= clustering, cmap=matplotlib.colors.ListedColormap(colors))\n",
    "for label, x, y in zip(labels, X_pca[:, 0], X_pca[:, 1]):\n",
    "    plt.annotate(label, xy=(x, y), xytext=(-0.2, 0.2), textcoords='offset points')\n",
    "plt.show()"
   ]
  },
  {
   "cell_type": "markdown",
   "metadata": {},
   "source": [
    "#### 5. Appliquez la procédure AgglomerativeClustering sur ce jeu de données pour obtenir trois clusters avec différentes méthodes d’agrégation (il faut essayer ward et average).\n",
    "On applique la méthode AgglomerativeClustering deux fois, chaque fois avec un type de Linkage. Ce paramètre Linkage permet de déterminer quelle distance utiliser entre deux ensembles d’observations. L’algorithme fusionne les pairs de clusters qui minimise ce critère.\n",
    "•\tWard minimise la variance des Clusters à fusionner\n",
    "•\tAverage utilise la moyenne des distances entre les observations des deux ensembles.\n",
    "Après la visualisation du résultat de Clustering, on obtient le résultat suivant :\n"
   ]
  },
  {
   "cell_type": "code",
   "execution_count": 10,
   "metadata": {
    "collapsed": true
   },
   "outputs": [],
   "source": [
    "from sklearn.cluster import AgglomerativeClustering\n",
    "clustering_ward = AgglomerativeClustering(n_clusters=3, linkage='ward').fit(X_pca)\n",
    "clustering_ward = clustering_ward.labels_"
   ]
  },
  {
   "cell_type": "code",
   "execution_count": 11,
   "metadata": {},
   "outputs": [
    {
     "data": {
      "image/png": "[encoded data removed]",
      "text/plain": [
       "<matplotlib.figure.Figure at 0x23469d8ba58>"
      ]
     },
     "metadata": {},
     "output_type": "display_data"
    }
   ],
   "source": [
    "colors = ['red','yellow','blue','pink']\n",
    "import matplotlib\n",
    "plt.scatter(X_pca[:, 0], X_pca[:, 1], c= clustering_ward, cmap=matplotlib.colors.ListedColormap(colors))\n",
    "for label, x, y in zip(labels, X_pca[:, 0], X_pca[:, 1]):\n",
    "    plt.annotate(label, xy=(x, y), xytext=(-0.2, 0.2), textcoords='offset points')\n",
    "plt.show()"
   ]
  },
  {
   "cell_type": "markdown",
   "metadata": {},
   "source": [
    "<b>• Avec la méthode Ward :</b>\n",
    "On obtient un résultat différent de celui de KMeans. En fait, Bres maintenant fait partie du Cluster rouge. De plus, roue, limo, orle font maintenant partie du cluster Rouge alors qu’elles ont été dans le rose. Encore, dijo a changé du cluster rouge au rose.\n",
    "Par contre, le cluster bleu est bien stable.\n"
   ]
  },
  {
   "cell_type": "code",
   "execution_count": 15,
   "metadata": {},
   "outputs": [
    {
     "name": "stdout",
     "output_type": "stream",
     "text": [
      "AgglomerativeClustering(affinity='euclidean', compute_full_tree='auto',\n",
      "            connectivity=None, linkage='average', memory=None,\n",
      "            n_clusters=3,\n",
      "            pooling_func=<function mean at 0x000002346618D0D0>)\n",
      "[0 1 1 1 0 0 2 1 1 1 1 1 1 1 0 0 1 1 0 0 1 1 0 1 1 1 1 1 0 0 1 1]\n"
     ]
    }
   ],
   "source": [
    "from sklearn.cluster import AgglomerativeClustering\n",
    "clustering_average = AgglomerativeClustering(n_clusters=3, linkage='average').fit(X_pca)\n",
    "print(clustering_average)\n",
    "clustering_average = clustering_average.labels_\n",
    "print(clustering_average)"
   ]
  },
  {
   "cell_type": "code",
   "execution_count": 13,
   "metadata": {},
   "outputs": [
    {
     "data": {
      "image/png": "[encoded data removed]",
      "text/plain": [
       "<matplotlib.figure.Figure at 0x2346a02cc88>"
      ]
     },
     "metadata": {},
     "output_type": "display_data"
    }
   ],
   "source": [
    "colors = ['red','yellow','blue','pink']\n",
    "import matplotlib\n",
    "plt.scatter(X_pca[:, 0], X_pca[:, 1], c= clustering_average, cmap=matplotlib.colors.ListedColormap(colors))\n",
    "for label, x, y in zip(labels, X_pca[:, 0], X_pca[:, 1]):\n",
    "    plt.annotate(label, xy=(x, y), xytext=(-0.2, 0.2), textcoords='offset points')\n",
    "plt.show()"
   ]
  },
  {
   "cell_type": "markdown",
   "metadata": {},
   "source": [
    "<b>• Avec la méthode Average :</b>\n",
    "On remarque un changement totale dans l’attribution des villes aux clusters.\n",
    "En fait, on trouve que les éléments qui faisaient partie du cluster bleu dans KMeans sont maintenant dans un cluster Rouge ( mais les éléments sont les mêmes). De plus, le Cluster Rose est réduit maintenant à une seule ville « bres ». Le reste des observations sont maintenant dans un seul cluster bleu ( alors qu’elles étaient divisées en deux clusters avec la méthode KMeans).\n",
    "\n",
    "#### 6. Déduire la meilleure partition qui correspond à un indice maximal pour chacun des deux indices Silhouette et Dunn."
   ]
  },
  {
   "cell_type": "code",
   "execution_count": 16,
   "metadata": {
    "collapsed": true,
    "scrolled": false
   },
   "outputs": [],
   "source": [
    "def dunn(c, distances):\n",
    "    \"\"\"Dunn index for cluster validation (the bigger, the better)\"\"\"\n",
    "    unique_cluster_distances = np.unique(min_cluster_distances(c, distances))\n",
    "    max_diameter = max(diameter(c, distances))\n",
    "\n",
    "    if np.size(unique_cluster_distances) > 1:\n",
    "        return unique_cluster_distances[1] / max_diameter\n",
    "    else:\n",
    "        return unique_cluster_distances[0] / max_diameter\n",
    "\n",
    "def min_cluster_distances(c, distances):\n",
    "    \"\"\"Calculates the distances between the two nearest points of each cluster\"\"\"\n",
    "    min_distances = np.zeros((max(c) + 1, max(c) + 1))\n",
    "    for i in np.arange(0, len(c)):\n",
    "        if c[i] == -1: continue\n",
    "        for ii in np.arange(i + 1, len(c)):\n",
    "            if c[ii] == -1: continue\n",
    "            if c[i] != c[ii] and distances[i, ii] > min_distances[c[i], c[ii]]:\n",
    "                min_distances[c[i], c[ii]] = min_distances[c[ii], c[i]] = distances[i, ii]\n",
    "    return min_distances\n",
    "\n",
    "def diameter(c, distances):\n",
    "    \"\"\"Calculates cluster diameters (the distance between the two farthest data points in a cluster)\"\"\"\n",
    "    diameters = np.zeros(max(c) + 1)\n",
    "    for i in np.arange(0, len(c)):\n",
    "        if c[i] == -1: continue\n",
    "        for ii in np.arange(i + 1, len(c)):\n",
    "            if c[ii] == -1: continue\n",
    "            if c[i] != -1 or c[ii] != -1 and c[i] == c[ii] and distances[i, ii] > diameters[c[i]]:\n",
    "                diameters[c[i]] = distances[i, ii]\n",
    "    return diameters "
   ]
  },
  {
   "cell_type": "code",
   "execution_count": 17,
   "metadata": {},
   "outputs": [
    {
     "name": "stdout",
     "output_type": "stream",
     "text": [
      "2.93657013328\n",
      "0.634134503049\n",
      "\n",
      "0.702204500545\n",
      "0.396415154321\n",
      "\n",
      "0.70014707527\n",
      "0.38049888522\n",
      "\n",
      "0.572861858826\n",
      "0.347257432724\n",
      "\n"
     ]
    }
   ],
   "source": [
    "from sklearn.metrics.pairwise import euclidean_distances\n",
    "\n",
    "from sklearn import metrics\n",
    "for i in np.arange(2, 6):\n",
    "    clustering = KMeans(n_clusters=i).fit_predict(X_pca)\n",
    "    print(dunn(clustering, euclidean_distances(X_pca, X_pca)))\n",
    "    print(metrics.silhouette_score(X_pca, clustering,metric='euclidean'))\n",
    "    print()"
   ]
  },
  {
   "cell_type": "markdown",
   "metadata": {},
   "source": [
    "On obtient un couple d’indice Dunn et Silhouette pour 2 Clusters uniquement. <b>Ainsi, le meilleur Clustering est fait avec K=2</b>. C’est logique si on considère «bres» comme aberrant dans le clustering Agglomérative avec la méthode Average. "
   ]
  },
  {
   "cell_type": "code",
   "execution_count": 11,
   "metadata": {},
   "outputs": [],
   "source": [
    "##II. Apprentissage supervise : Feature engineering et Classification\n",
    "#Import Data\n",
    "data = pd.read_csv('./credit.data', header=None, sep='\\t')\n",
    "df=data.values\n",
    "explic, target = df[:, :-1], df[:, -1]"
   ]
  },
  {
   "cell_type": "code",
   "execution_count": 12,
   "metadata": {
    "collapsed": true,
    "scrolled": true
   },
   "outputs": [],
   "source": [
    "for i in range(0,688):\n",
    "    if(data[1][i] == '?'):\n",
    "        data[1][i] = np.nan\n",
    "    else:\n",
    "        data[1][i] = float(data[1][i])\n",
    "    if(data[13][i] == '?'):\n",
    "        data[13][i] = np.nan\n",
    "    else:\n",
    "        data[13][i] = float(data[13][i])\n",
    "    #data = data.astype(np.float)"
   ]
  },
  {
   "cell_type": "code",
   "execution_count": 14,
   "metadata": {},
   "outputs": [],
   "source": [
    "data_only_numeric = data[[1,2,7,10,13,14,15]]\n",
    "data_only_numeric = data_only_numeric.dropna() \n",
    "#data_only_numeric = data_only_numeric[~np.isnan(explic_numeric_only).any(axis=1)]\n",
    "explic_numeric_only_values = data_only_numeric.values\n",
    "#explic_numeric_only = explic_numeric_only_values[~np.isnan(explic_numeric_only).any(axis=1)]\n",
    "explic_numeric_only, target_numeric_only = explic_numeric_only_values[:, :-1], explic_numeric_only_values[:, -1]\n",
    "explic_numeric_only = explic_numeric_only.astype(float)"
   ]
  },
  {
   "cell_type": "code",
   "execution_count": 15,
   "metadata": {},
   "outputs": [
    {
     "data": {
      "text/plain": [
       "(666, 6)"
      ]
     },
     "execution_count": 15,
     "metadata": {},
     "output_type": "execute_result"
    }
   ],
   "source": [
    "explic_numeric_only.shape"
   ]
  },
  {
   "cell_type": "code",
   "execution_count": 17,
   "metadata": {},
   "outputs": [
    {
     "name": "stdout",
     "output_type": "stream",
     "text": [
      "LabelBinarizer(neg_label=0, pos_label=1, sparse_output=False)\n",
      "['+' '-']\n"
     ]
    }
   ],
   "source": [
    "#for i in range(0,666):\n",
    "#    if(target_numeric_only[i] == '-'):\n",
    "#        target_numeric_only[i] = 0\n",
    "#    if(target_numeric_only[i] == '+'):\n",
    "#        target_numeric_only[i] = 1\n",
    "from sklearn import preprocessing\n",
    "lb = preprocessing.LabelBinarizer()\n",
    "lb.fit(['-', '+'])\n",
    "print(lb)\n",
    "print(lb.classes_)"
   ]
  },
  {
   "cell_type": "code",
   "execution_count": 23,
   "metadata": {},
   "outputs": [
    {
     "name": "stdout",
     "output_type": "stream",
     "text": [
      "Accuracy for RF is: 0.784 +/- 0.050\n",
      "kappa for RF is: 0.537 +/- 0.110\n",
      "execution time is: 1.4369511604309082 seconds\n",
      "Accuracy for KNN is: 0.668 +/- 0.046\n",
      "kappa for KNN is: 0.324 +/- 0.088\n",
      "execution time is: 0.03886985778808594 seconds\n",
      "Accuracy for NBayes is: 0.716 +/- 0.050\n",
      "kappa for NBayes is: 0.398 +/- 0.077\n",
      "execution time is: 0.034060001373291016 seconds\n",
      "Accuracy for CART is: 0.715 +/- 0.054\n",
      "kappa for CART is: 0.423 +/- 0.085\n",
      "execution time is: 0.05817055702209473 seconds\n",
      "Accuracy for Adaboost_depth1 is: 0.770 +/- 0.063\n",
      "kappa for Adaboost_depth1 is: 0.532 +/- 0.120\n",
      "execution time is: 1.9234049320220947 seconds\n",
      "Accuracy for Adaboost_depth2 is: 0.739 +/- 0.062\n",
      "kappa for Adaboost_depth2 is: 0.475 +/- 0.107\n",
      "execution time is: 2.222069501876831 seconds\n"
     ]
    }
   ],
   "source": [
    "from sklearn.ensemble import RandomForestClassifier\n",
    "from sklearn.neighbors import KNeighborsClassifier\n",
    "from sklearn.naive_bayes import GaussianNB\n",
    "from sklearn.cluster import KMeans, MiniBatchKMeans #for fun although it is not supervised learning\n",
    "from sklearn.mixture import GaussianMixture #EM\n",
    "from sklearn.tree import DecisionTreeClassifier #cart, id3 and decision stump (1 lvl tree)\n",
    "from sklearn.ensemble import AdaBoostClassifier, BaggingClassifier, RandomForestClassifier #bagging, RF and adaboost\n",
    "\n",
    "from sklearn import tree\n",
    "from sklearn.model_selection import KFold\n",
    "from sklearn.model_selection import cross_val_score\n",
    "from sklearn.metrics import roc_auc_score, precision_score, accuracy_score, cohen_kappa_score, make_scorer\n",
    "import time\n",
    "\n",
    "clfs = {\n",
    "    'RF': RandomForestClassifier(n_estimators=50),\n",
    "    'KNN': KNeighborsClassifier(n_neighbors=10),\n",
    "    'NBayes': GaussianNB(),\n",
    "    'CART': tree.DecisionTreeClassifier(),\n",
    "    'Adaboost_depth1':AdaBoostClassifier(DecisionTreeClassifier(max_depth=1), n_estimators=50),\n",
    "    'Adaboost_depth2':AdaBoostClassifier(DecisionTreeClassifier(max_depth=2), n_estimators=50)\n",
    "    #'KMeans':KMeans(n_clusters=2),\n",
    "}\n",
    "\n",
    "auc_scorer=make_scorer(roc_auc_score)\n",
    "acc_scorer=make_scorer(accuracy_score)\n",
    "precision_scorer=make_scorer(precision_score)\n",
    "kappa_scorer=make_scorer(cohen_kappa_score)\n",
    "\n",
    "kf10=KFold(n_splits=10,\tshuffle=True,\trandom_state=0)\t\n",
    "kf5=KFold(n_splits=5,\tshuffle=True,\trandom_state=0)\t\n",
    "\n",
    "def run_classifiers(clfs, X, Y):\n",
    "    kf = KFold(n_splits=10, shuffle=True, random_state=0)\n",
    "    for i in clfs:\n",
    "        clf = clfs[i]\n",
    "        clf = clf.fit(X, Y)\n",
    "        init_time = time.time()\n",
    "        cv_acc = cross_val_score(clf, X, Y, cv=kf)\n",
    "        #precision_scores=cross_val_score(estimator=clf,X=X,y=Y,cv=kf,scoring=precision_scorer)\n",
    "        kappa_scores=cross_val_score(estimator=clf,X=X,y=Y,cv=kf,scoring=kappa_scorer)\n",
    "        algo_time = time.time() - init_time\n",
    "        print(\"Accuracy for {0} is: {1:.3f} +/- {2:.3f}\".format(i, np.mean(cv_acc), np.std(cv_acc)))\n",
    "        print(\"kappa for {0} is: {1:.3f} +/- {2:.3f}\".format(i, np.mean(kappa_scores), np.std(kappa_scores)))\n",
    "        #print(\"time for {0} is: %f \".algo_time)\n",
    "        print(\"execution time is: %s seconds\" % algo_time)\n",
    "run_classifiers(clfs, explic_numeric_only, target_numeric_only)"
   ]
  },
  {
   "cell_type": "markdown",
   "metadata": {},
   "source": [
    "Comparons les différents algotihmes. On peut noter que :\n",
    "* On note que l'algorithme Adaboost avec des arbres de profondeur 1 est meilleur qu'avec des arbres de profondeur 2 malgrès que Adaboost avec un profondeur de 2 met plus de temps à s'exécuter.\n",
    "* On remarque que le Kappa de ces dfférents algorithmes sont aux alentour de 0.5. Ceci veut dire que ces algorithmes perfoment à peine  mieux que le hasard!\n",
    "\n",
    "PS: j'obtient une petite erreur que j'ai pas encore debeugué, quand j'ajoute EM ou Kmeans à la liste des algorithmes,mais semble ne pas affecter le résultat...\n",
    "\n",
    "### Evaluation avec normalisation des variables continues\n",
    "\n",
    "Normalisons les variables continues."
   ]
  },
  {
   "cell_type": "code",
   "execution_count": 22,
   "metadata": {},
   "outputs": [
    {
     "name": "stdout",
     "output_type": "stream",
     "text": [
      "Accuracy for RF is: 0.782 +/- 0.052\n",
      "kappa for RF is: 0.558 +/- 0.096\n",
      "execution time is: 1.4920861721038818 seconds\n",
      "Accuracy for KNN is: 0.742 +/- 0.059\n",
      "kappa for KNN is: 0.471 +/- 0.111\n",
      "execution time is: 0.05113577842712402 seconds\n",
      "Accuracy for NBayes is: 0.716 +/- 0.050\n",
      "kappa for NBayes is: 0.398 +/- 0.077\n",
      "execution time is: 0.03208589553833008 seconds\n",
      "Accuracy for CART is: 0.715 +/- 0.046\n",
      "kappa for CART is: 0.408 +/- 0.086\n",
      "execution time is: 0.059157609939575195 seconds\n",
      "Accuracy for Adaboost_depth1 is: 0.770 +/- 0.063\n",
      "kappa for Adaboost_depth1 is: 0.532 +/- 0.120\n",
      "execution time is: 1.7255926132202148 seconds\n",
      "Accuracy for Adaboost_depth2 is: 0.740 +/- 0.056\n",
      "kappa for Adaboost_depth2 is: 0.475 +/- 0.102\n",
      "execution time is: 2.0008959770202637 seconds\n"
     ]
    }
   ],
   "source": [
    "#Normalisation des variables continues\n",
    "from sklearn.preprocessing import StandardScaler\n",
    "explic_numeric_only_centred = StandardScaler().fit_transform(explic_numeric_only)\n",
    "run_classifiers(clfs, explic_numeric_only_centred, target_numeric_only)"
   ]
  },
  {
   "cell_type": "markdown",
   "metadata": {},
   "source": [
    "### PCA \n",
    "On applique une Analyse des Composantes Principales aux données."
   ]
  },
  {
   "cell_type": "code",
   "execution_count": 23,
   "metadata": {},
   "outputs": [
    {
     "name": "stdout",
     "output_type": "stream",
     "text": [
      "[ 0.32303239  0.17812337  0.1624939   0.13241474]\n",
      "4\n",
      "[ 0.45499012  0.47793667  0.53532047  0.45612324 -0.23760746  0.11613271]\n",
      "[ 0.07582484 -0.06039093  0.12243534  0.01486247  0.67874305  0.71742602]\n",
      "[ 0.07582484 -0.06039093  0.12243534  0.01486247  0.67874305  0.71742602]\n",
      "[ 0.07582484 -0.06039093  0.12243534  0.01486247  0.67874305  0.71742602]\n"
     ]
    }
   ],
   "source": [
    "from sklearn.decomposition import PCA\n",
    "\n",
    "pca_ville = PCA(0.7)\n",
    "pca_ville.fit(explic_numeric_only_centred)\n",
    "explic_numeric_only_centred_with_pca = pca_ville.transform(explic_numeric_only_centred)\n",
    "print(pca_ville.explained_variance_ratio_)\n",
    "print(pca_ville.n_components_)\n",
    "first_pca_ville = pca_ville.components_[0]\n",
    "second_pca_ville = pca_ville.components_[1]\n",
    "third_pca_ville = pca_ville.components_[1]\n",
    "fourth_pca_ville = pca_ville.components_[1]\n",
    "print(first_pca_ville)\n",
    "print(second_pca_ville)\n",
    "print(third_pca_ville)\n",
    "print(fourth_pca_ville)"
   ]
  },
  {
   "cell_type": "code",
   "execution_count": 24,
   "metadata": {},
   "outputs": [
    {
     "name": "stdout",
     "output_type": "stream",
     "text": [
      "Accuracy for RF is: 0.718 +/- 0.057\n",
      "kappa for RF is: 0.434 +/- 0.085\n",
      "execution time is: 1.6564247608184814 seconds\n",
      "Accuracy for KNN is: 0.745 +/- 0.035\n",
      "kappa for KNN is: 0.477 +/- 0.069\n",
      "execution time is: 0.03125309944152832 seconds\n",
      "Accuracy for NBayes is: 0.676 +/- 0.055\n",
      "kappa for NBayes is: 0.312 +/- 0.100\n",
      "execution time is: 0.03125405311584473 seconds\n",
      "Accuracy for CART is: 0.668 +/- 0.048\n",
      "kappa for CART is: 0.309 +/- 0.098\n",
      "execution time is: 0.06254196166992188 seconds\n",
      "Accuracy for Adaboost_depth1 is: 0.731 +/- 0.055\n",
      "kappa for Adaboost_depth1 is: 0.452 +/- 0.106\n",
      "execution time is: 1.6407604217529297 seconds\n",
      "Accuracy for Adaboost_depth2 is: 0.683 +/- 0.057\n",
      "kappa for Adaboost_depth2 is: 0.353 +/- 0.109\n",
      "execution time is: 1.9377498626708984 seconds\n"
     ]
    }
   ],
   "source": [
    "run_classifiers(clfs, explic_numeric_only_centred_with_pca, target_numeric_only)"
   ]
  },
  {
   "cell_type": "markdown",
   "metadata": {},
   "source": [
    "* On remarque que les Kappa ont diminué!!! Sauf KNN, les autres ont un Kappa inférieur à 0.5.\n",
    "* Même en Accuracy, les performances des algorithmes ont diminué.\n",
    "#### Interprétation\n",
    "Avec le PCA, on a diminué le nombre de dimension de notre jeux de donnée. Ceci a clairement diminué les performances des algorithmes. Vu que le PCA nous donne des directions principales, ceci semble logique de ne pas avoir une meilleur performance avec seulement ces direction. C'est pourquoi, on est confient qu'on pourrait avoir une meilleur performance si on associe ces directions principales au donnée originales.\n",
    "\n",
    "#### PCA concaténée avec données originales:\n",
    "\n",
    "On concatène les deux jeux de données. On comparera le résultat à celui obtenu sur les données centrées réduites : "
   ]
  },
  {
   "cell_type": "code",
   "execution_count": 25,
   "metadata": {},
   "outputs": [
    {
     "name": "stdout",
     "output_type": "stream",
     "text": [
      "Accuracy for RF is: 0.779 +/- 0.057\n",
      "kappa for RF is: 0.521 +/- 0.085\n",
      "execution time is: 1.6563804149627686 seconds\n",
      "Accuracy for KNN is: 0.769 +/- 0.040\n",
      "kappa for KNN is: 0.525 +/- 0.075\n",
      "execution time is: 0.04687666893005371 seconds\n",
      "Accuracy for NBayes is: 0.710 +/- 0.047\n",
      "kappa for NBayes is: 0.387 +/- 0.076\n",
      "execution time is: 0.031253814697265625 seconds\n",
      "Accuracy for CART is: 0.712 +/- 0.060\n",
      "kappa for CART is: 0.407 +/- 0.109\n",
      "execution time is: 0.09380173683166504 seconds\n",
      "Accuracy for Adaboost_depth1 is: 0.773 +/- 0.065\n",
      "kappa for Adaboost_depth1 is: 0.536 +/- 0.125\n",
      "execution time is: 1.7814381122589111 seconds\n",
      "Accuracy for Adaboost_depth2 is: 0.739 +/- 0.049\n",
      "kappa for Adaboost_depth2 is: 0.463 +/- 0.091\n",
      "execution time is: 2.4064993858337402 seconds\n"
     ]
    }
   ],
   "source": [
    "data_concat=np.append(explic_numeric_only_centred,explic_numeric_only_centred_with_pca,axis=1)\n",
    "answer_data_concat=run_classifiers(clfs, data_concat, target_numeric_only)"
   ]
  },
  {
   "cell_type": "markdown",
   "metadata": {},
   "source": [
    "On remarque qu'on obtient un résultat mieux que celle obtenu avec seulement les données obtenus pas PCA, mais pas meilleur. En fait, l'accuracy reste autour de 0.7 et le Kappa à peine > 0.5 pour quelques algorithmes.\n",
    "#### Interprétation\n",
    "On peut interpréter ceci par le fait que les directions obtenus par PCA ne sont pas vraiment loin de notre jeu de données Autrement dit, notre jeu de donnée est suffisamment bien fait pour exprimer toutes les informations nécessaire pour avoir un bon résultat.\n",
    "\n",
    "On pourrait avoir plus de performance avec une telle concaténation(PCA + données normale) si les axes du PCA décrivent notre jeux de donnée mieux que les données d'origine."
   ]
  },
  {
   "cell_type": "markdown",
   "metadata": {},
   "source": [
    "### Feature selection\n",
    "\n",
    "En utilisant l'algorithme random forest, on peut faire une selection de features sur les données normalisée. \n"
   ]
  },
  {
   "cell_type": "code",
   "execution_count": 26,
   "metadata": {},
   "outputs": [
    {
     "name": "stdout",
     "output_type": "stream",
     "text": [
      "[ 0.15285633  0.13161419  0.19313886  0.18908152  0.12842293  0.20488616]\n"
     ]
    },
    {
     "data": {
      "image/png": "[encoded data removed]",
      "text/plain": [
       "<matplotlib.figure.Figure at 0x1c5047ad048>"
      ]
     },
     "metadata": {},
     "output_type": "display_data"
    }
   ],
   "source": [
    "def variableSelection(X2,Y2):\n",
    "    fig=plt.figure(figsize=(8,10))\n",
    "    clf = RandomForestClassifier()\n",
    "    clf.fit(X2, Y2)\n",
    "    importances=clf.feature_importances_\n",
    "    print(importances)\n",
    "    sorted_idx = np.argsort(importances)[::-1]\n",
    "    features =np.arange(1, X2.shape[1])\n",
    "    padding = np.arange(X2.size/len(X2)) + 0.5\n",
    "    plt.barh(padding, importances[sorted_idx], align='center')\n",
    "    plt.yticks(padding, features[sorted_idx-1])\n",
    "    plt.xlabel(\"Relative Importance\")\n",
    "    plt.title(\"Variable Importance\")\n",
    "    plt.show()\n",
    "variableSelection(explic_numeric_only, target_numeric_only)"
   ]
  },
  {
   "cell_type": "markdown",
   "metadata": {},
   "source": [
    "On conserve les 3 features les plus importants: "
   ]
  },
  {
   "cell_type": "code",
   "execution_count": 27,
   "metadata": {},
   "outputs": [
    {
     "name": "stdout",
     "output_type": "stream",
     "text": [
      "Accuracy for RF is: 0.784 +/- 0.058\n",
      "kappa for RF is: 0.570 +/- 0.100\n",
      "execution time is: 1.5470013618469238 seconds\n",
      "Accuracy for KNN is: 0.668 +/- 0.046\n",
      "kappa for KNN is: 0.324 +/- 0.088\n",
      "execution time is: 0.06250524520874023 seconds\n",
      "Accuracy for NBayes is: 0.716 +/- 0.050\n",
      "kappa for NBayes is: 0.398 +/- 0.077\n",
      "execution time is: 0.04687857627868652 seconds\n",
      "Accuracy for CART is: 0.719 +/- 0.047\n",
      "kappa for CART is: 0.440 +/- 0.075\n",
      "execution time is: 0.09376096725463867 seconds\n",
      "Accuracy for Adaboost_depth1 is: 0.770 +/- 0.063\n",
      "kappa for Adaboost_depth1 is: 0.532 +/- 0.120\n",
      "execution time is: 2.3283708095550537 seconds\n",
      "Accuracy for Adaboost_depth2 is: 0.740 +/- 0.056\n",
      "kappa for Adaboost_depth2 is: 0.475 +/- 0.102\n",
      "execution time is: 2.7346622943878174 seconds\n"
     ]
    }
   ],
   "source": [
    "data_selected=explic_numeric_only[:,[5,3,2]]\n",
    "run_classifiers(clfs, explic_numeric_only, target_numeric_only)"
   ]
  },
  {
   "cell_type": "markdown",
   "metadata": {},
   "source": [
    "On voit bien que le résultat obtenue est semblable au résultat des données à l'origine.\n",
    "#### Interprétation\n",
    "Ceci indique que ces trois variables détiennent vraiment la plupart de l'information présentée par notre jeu de donnée. Ainsi, le Feature selection performe bien si on veut choisir quelque variables afin de réduire la dimension du jeu de donnée."
   ]
  },
  {
   "cell_type": "code",
   "execution_count": 24,
   "metadata": {},
   "outputs": [
    {
     "name": "stdout",
     "output_type": "stream",
     "text": [
      "(688, 15)\n",
      "(688,)\n"
     ]
    }
   ],
   "source": [
    "print(explic.shape)\n",
    "print(target.shape)"
   ]
  },
  {
   "cell_type": "markdown",
   "metadata": {},
   "source": [
    "### 2) Etude sur la totalité de la base\n",
    "\n",
    "### Prétraitement des données\n",
    "\n",
    "On commence par utiliser une stratégie d'imputation des valeurs manquantes:\n",
    "* Les valeures manquantes catégorielles seront remplacées par le mode le plus fréquent de la variable\n",
    "* Les valeures manquantes numériques seront remplacées par la moyenne de la variable"
   ]
  },
  {
   "cell_type": "code",
   "execution_count": 29,
   "metadata": {
    "collapsed": true
   },
   "outputs": [],
   "source": [
    "data = pd.read_csv('./credit.data', header=None, sep='\\t')\n",
    "df=data.values\n",
    "explic, target = df[:, :-1], df[:, -1]\n",
    "\n",
    "data_only_numeric = data[[1,2,7,10,13,14,15]]\n",
    "explic_numeric_only_values = data_only_numeric.values\n",
    "explic_numeric_only, target_numeric_only = explic_numeric_only_values[:, :-1], explic_numeric_only_values[:, -1]\n",
    "\n",
    "data_only_categoriel = data[[0,3,4,5,6,8,9,11,12]]\n",
    "data_only_categoriel_values = data_only_categoriel.values\n",
    "#print(data_only_categoriel)\n",
    "\n",
    "#Impute for categorial variables:\n",
    "from sklearn.preprocessing import Imputer\n",
    "X_cat = np.copy(data_only_categoriel_values)\n",
    "for col_id in range(0,9):\n",
    "    unique_val, val_idx = np.unique(X_cat[:, col_id], return_inverse=True)\n",
    "    X_cat[:, col_id] = val_idx\n",
    "imp_cat = Imputer(missing_values=0, strategy='most_frequent')\n",
    "X_cat[:, range(5)] = imp_cat.fit_transform(X_cat[:, range(5)])\n",
    "#print(X_cat)\n",
    "\n",
    "#Impute for numeric variables:\n",
    "X_num = np.copy(explic_numeric_only)\n",
    "X_num[X_num == '?'] = np.nan\n",
    "X_num = X_num.astype(float)\n",
    "imp_num = Imputer(missing_values=np.nan, strategy='mean')\n",
    "X_num = imp_num.fit_transform(X_num)\n",
    "#print(X_num)"
   ]
  },
  {
   "cell_type": "code",
   "execution_count": 30,
   "metadata": {},
   "outputs": [
    {
     "name": "stdout",
     "output_type": "stream",
     "text": [
      "[ 0.02153436  0.04524753  0.04196373  0.01427529  0.0410192   0.03137473\n",
      "  0.00305302  0.00297241  0.          0.00522282  0.0038174   0.00200421\n",
      "  0.00053383  0.00485093  0.00510747  0.00639933  0.00844827  0.0007771\n",
      "  0.00106874  0.00298771  0.00350329  0.00067228  0.00360834  0.00137709\n",
      "  0.00274225  0.          0.00247897  0.00289947  0.0056252   0.          0.0064882\n",
      "  0.00430282  0.00040943  0.00168883  0.          0.00348539  0.\n",
      "  0.22082405  0.13670657  0.02739791  0.02996343  0.00405796  0.0051537\n",
      "  0.00446771  0.0043732   0.00140637  0.10590618  0.03323966  0.02122526\n",
      "  0.03268253  0.02634265  0.03294526  0.03136795]\n"
     ]
    },
    {
     "data": {
      "image/png": "[encoded data removed]",
      "text/plain": [
       "<matplotlib.figure.Figure at 0x1c504748518>"
      ]
     },
     "metadata": {},
     "output_type": "display_data"
    }
   ],
   "source": [
    "from sklearn.preprocessing import OneHotEncoder\n",
    "X_cat_bin = OneHotEncoder().fit_transform(X_cat).toarray()\n",
    "X_num = StandardScaler().fit_transform(X_num)\n",
    "s = np.concatenate((X_num, X_cat_bin), axis=1)\n",
    "# Ajout des donnée du PCA\n",
    "pca=PCA(n_components=0.7)\n",
    "s_pca=pca.fit_transform(s)\n",
    "s_total=np.append(s,s_pca,axis=1)\n",
    "variableSelection(s_total, target_numeric_only)"
   ]
  },
  {
   "cell_type": "markdown",
   "metadata": {},
   "source": [
    "On prend ainsi les features les plus important afin d'étudier les performances du modèle. On prend les 15 meilleurs features ( pour la simple raison: en passant du feature 51 au feature 26, on perd beaucoup d'amplitude selon le graphique ci-dessus )."
   ]
  },
  {
   "cell_type": "code",
   "execution_count": 31,
   "metadata": {
    "collapsed": true
   },
   "outputs": [],
   "source": [
    "s_total_selected=s_total[:,[37,38,46,3,49,1,5,52,47,4,50,48,2,40,51]]"
   ]
  },
  {
   "cell_type": "markdown",
   "metadata": {},
   "source": [
    "On teste ce jeu de donnée"
   ]
  },
  {
   "cell_type": "code",
   "execution_count": null,
   "metadata": {},
   "outputs": [
    {
     "name": "stdout",
     "output_type": "stream",
     "text": [
      "Accuracy for RF is: 0.853 +/- 0.040\n",
      "kappa for RF is: 0.727 +/- 0.064\n",
      "execution time is: 1.6877055168151855 seconds\n",
      "Accuracy for KNN is: 0.853 +/- 0.040\n",
      "kappa for KNN is: 0.701 +/- 0.083\n",
      "execution time is: 0.06248164176940918 seconds\n",
      "Accuracy for NBayes is: 0.823 +/- 0.040\n",
      "kappa for NBayes is: 0.633 +/- 0.089\n",
      "execution time is: 0.03125190734863281 seconds\n",
      "Accuracy for CART is: 0.826 +/- 0.058\n",
      "kappa for CART is: 0.653 +/- 0.102\n",
      "execution time is: 0.09372067451477051 seconds\n",
      "Accuracy for Adaboost_depth1 is: 0.828 +/- 0.048\n",
      "kappa for Adaboost_depth1 is: 0.652 +/- 0.097\n",
      "execution time is: 2.156493902206421 seconds\n",
      "Accuracy for Adaboost_depth2 is: 0.837 +/- 0.056\n",
      "kappa for Adaboost_depth2 is: 0.671 +/- 0.112\n",
      "execution time is: 3.42224383354187 seconds\n"
     ]
    }
   ],
   "source": [
    "run_classifiers(clfs, s_total_selected, target_numeric_only)"
   ]
  },
  {
   "cell_type": "markdown",
   "metadata": {},
   "source": [
    "On a bien des meilleurs performances ces features :\n",
    "* Le kappa est en moyenne bien meilleur, les meilleur modèles approchent 0.7, ce qui commence à être correct.\n",
    "* L'accuracy aussi a été bien amélioré surtout por le Random forest (0.869).\n",
    "\n",
    "__On peut déduire que le radom forest est le meilleur algorithme pour ce jeu de donnée vu son Kappa est correct (0.738) et son accuracy élevée. De plus, son temps d'exécution n'est pas si mal.__\n"
   ]
  },
  {
   "cell_type": "markdown",
   "metadata": {},
   "source": [
    "### III. Apprentissage supervisé sur des données textuelles : Feature engineering et Classification"
   ]
  },
  {
   "cell_type": "markdown",
   "metadata": {},
   "source": [
    "#### Methode CountVectorize\n",
    "\n",
    "Il s'agit de la méthode la plus simple que nous allons tester. Elle prend en compte seulement la fréquence des termes dans le corpus."
   ]
  },
  {
   "cell_type": "code",
   "execution_count": null,
   "metadata": {},
   "outputs": [
    {
     "name": "stdout",
     "output_type": "stream",
     "text": [
      "Shape of Sparse Matrix:  (5572, 8713)\n",
      "Amount of Non-Zero occurences:  74169\n",
      "sparsity: 0.15%\n",
      "Accuracy for RF is: 0.978 +/- 0.005\n",
      "kappa for RF is: 0.890 +/- 0.029\n",
      "execution time is: 251.50681614875793 seconds\n",
      "Accuracy for KNN is: 0.895 +/- 0.015\n",
      "kappa for KNN is: 0.321 +/- 0.053\n",
      "execution time is: 900.1736805438995 seconds\n",
      "Accuracy for NBayes is: 0.900 +/- 0.016\n",
      "kappa for NBayes is: 0.652 +/- 0.055\n",
      "execution time is: 23.29058074951172 seconds\n",
      "Accuracy for CART is: 0.970 +/- 0.007\n",
      "kappa for CART is: 0.872 +/- 0.024\n",
      "execution time is: 434.5432217121124 seconds\n",
      "Accuracy for Adaboost_depth1 is: 0.972 +/- 0.005\n",
      "kappa for Adaboost_depth1 is: 0.872 +/- 0.017\n",
      "execution time is: 670.3112316131592 seconds\n"
     ]
    }
   ],
   "source": [
    "#III. Apprentissage supervisé sur des données textuelles : Feature engineering et Classification\n",
    "from sklearn.feature_extraction.text import CountVectorizer\n",
    "import time \n",
    "vectorizer = CountVectorizer()\n",
    "messages = pd.read_csv('./SMSSpamCollection.data',sep='\\t',names=['labels','message'])\n",
    "X = vectorizer.fit_transform(messages['message'])\n",
    "#message4 = messages['message'][3]\n",
    "#print(message4)\n",
    "#bow4 = vectorizer.transform([message4])\n",
    "#print(bow4)\n",
    "print ('Shape of Sparse Matrix: ', X.shape)\n",
    "print ('Amount of Non-Zero occurences: ', X.nnz)\n",
    "print ('sparsity: %.2f%%' % (100.0 * X.nnz /(X.shape[0] * X.shape[1])))\n",
    "run_classifiers(clfs, X.toarray(), messages['labels'])"
   ]
  },
  {
   "cell_type": "markdown",
   "metadata": {},
   "source": [
    "On visualise la sparcité de la matrice (0.15%). Ceci nous indique que la matrice n'est pas trop sparcée et donc susceptible de nous donner un bon résultat.\n",
    "Après avoir exécuté les différents algorithmes dans clf, on obtient pour chaque algorithme la moyenne, l'écart type pour le 10-cross-validation, ainsi que le temps d'exécution.\n",
    "on remarque que la moyenne varie peut entre les 3 algorithmes, alors que l'écart-type et bien supérieur pour le KNN et le Naive Bayes.\n",
    "De plus, le temps d'exécution pour le KNN est très élevé par rapport aux autres."
   ]
  },
  {
   "cell_type": "markdown",
   "metadata": {},
   "source": [
    "#### Methode Tf Idf \n",
    "Cette méthode prend en compte les occurences des termes dans le corpus mais aussi au sein de chaque document, afin d'attribuer un meilleur score aux termes qui 'décrivent' et 'différencient' les documents entre eux. "
   ]
  },
  {
   "cell_type": "code",
   "execution_count": 34,
   "metadata": {},
   "outputs": [
    {
     "name": "stdout",
     "output_type": "stream",
     "text": [
      "Accuracy for RF is: 0.978 +/- 0.005\n",
      "execution time is: 144.99784350395203 seconds\n",
      "             precision    recall  f1-score   support\n",
      "\n",
      "        ham       1.00      1.00      1.00      4825\n",
      "       spam       1.00      1.00      1.00       747\n",
      "\n",
      "avg / total       1.00      1.00      1.00      5572\n",
      "\n",
      "Accuracy for KNN is: 0.946 +/- 0.012\n",
      "execution time is: 508.03864216804504 seconds\n",
      "             precision    recall  f1-score   support\n",
      "\n",
      "        ham       0.95      1.00      0.97      4825\n",
      "       spam       1.00      0.64      0.78       747\n",
      "\n",
      "avg / total       0.95      0.95      0.95      5572\n",
      "\n",
      "Accuracy for NBayes is: 0.897 +/- 0.016\n",
      "execution time is: 12.133416175842285 seconds\n",
      "             precision    recall  f1-score   support\n",
      "\n",
      "        ham       1.00      0.93      0.97      4825\n",
      "       spam       0.70      1.00      0.82       747\n",
      "\n",
      "avg / total       0.96      0.94      0.95      5572\n",
      "\n",
      "Accuracy for CART is: 0.972 +/- 0.005\n",
      "execution time is: 223.2936315536499 seconds\n",
      "             precision    recall  f1-score   support\n",
      "\n",
      "        ham       1.00      1.00      1.00      4825\n",
      "       spam       1.00      1.00      1.00       747\n",
      "\n",
      "avg / total       1.00      1.00      1.00      5572\n",
      "\n",
      "Accuracy for Adaboost_depth1 is: 0.973 +/- 0.006\n",
      "execution time is: 343.255793094635 seconds\n",
      "             precision    recall  f1-score   support\n",
      "\n",
      "        ham       0.99      1.00      0.99      4825\n",
      "       spam       0.97      0.90      0.94       747\n",
      "\n",
      "avg / total       0.98      0.98      0.98      5572\n",
      "\n",
      "Accuracy for Adaboost_depth2 is: 0.976 +/- 0.004\n",
      "execution time is: 617.363883972168 seconds\n",
      "             precision    recall  f1-score   support\n",
      "\n",
      "        ham       1.00      1.00      1.00      4825\n",
      "       spam       1.00      0.98      0.99       747\n",
      "\n",
      "avg / total       1.00      1.00      1.00      5572\n",
      "\n"
     ]
    }
   ],
   "source": [
    "from sklearn.feature_extraction.text import TfidfTransformer\n",
    "transformer = TfidfTransformer()\n",
    "tfidf = transformer.fit_transform(X)\n",
    "\n",
    "from sklearn.metrics import classification_report\n",
    "def run_classifiers_with_prediction(clfs, X, Y):\n",
    "    kf = KFold(n_splits=10, shuffle=True, random_state=0)\n",
    "    for i in clfs:\n",
    "        clf = clfs[i]\n",
    "        clf = clf.fit(X, Y)\n",
    "        init_time = time.time()\n",
    "        cv_acc = cross_val_score(clf, X, Y, cv=kf)\n",
    "        algo_time = time.time() - init_time\n",
    "        print(\"Accuracy for {0} is: {1:.3f} +/- {2:.3f}\".format(i, np.mean(cv_acc), np.std(cv_acc)))\n",
    "        #print(\"time for {0} is: %f \".algo_time)\n",
    "        print(\"execution time is: %s seconds\" % algo_time)\n",
    "        all_predictions = clf.predict(X)\n",
    "        print (classification_report(messages['labels'], all_predictions))\n",
    "run_classifiers_with_prediction(clfs, tfidf.toarray(),messages['labels'])"
   ]
  },
  {
   "cell_type": "markdown",
   "metadata": {},
   "source": [
    "<b>• Avec Tf–idf term weighting:</b>\n",
    "On remarque que la moyenne a augmenté par rapport à l'exécution précedente. De plus, l'écart type a bien dimunier pour KNN surtout."
   ]
  },
  {
   "cell_type": "markdown",
   "metadata": {},
   "source": [
    "#### Methode SVD\n",
    "\n",
    "Il s'agit d'une méthode de réduction de dimension permet de projeter un document dans l'espace des concepts, i.e. de le traiter plus selon son sens."
   ]
  },
  {
   "cell_type": "code",
   "execution_count": null,
   "metadata": {},
   "outputs": [
    {
     "name": "stdout",
     "output_type": "stream",
     "text": [
      "Accuracy for RF is: 0.966 +/- 0.006\n",
      "execution time is: 3.182539701461792 seconds\n",
      "             precision    recall  f1-score   support\n",
      "\n",
      "        ham       1.00      1.00      1.00      4825\n",
      "       spam       1.00      0.99      1.00       747\n",
      "\n",
      "avg / total       1.00      1.00      1.00      5572\n",
      "\n",
      "Accuracy for KNN is: 0.955 +/- 0.005\n",
      "execution time is: 0.1412343978881836 seconds\n",
      "             precision    recall  f1-score   support\n",
      "\n",
      "        ham       0.96      0.99      0.98      4825\n",
      "       spam       0.94      0.76      0.84       747\n",
      "\n",
      "avg / total       0.96      0.96      0.96      5572\n",
      "\n",
      "Accuracy for NBayes is: 0.901 +/- 0.008\n",
      "execution time is: 0.05506753921508789 seconds\n",
      "             precision    recall  f1-score   support\n",
      "\n",
      "        ham       0.93      0.96      0.95      4825\n",
      "       spam       0.69      0.50      0.58       747\n",
      "\n",
      "avg / total       0.89      0.90      0.90      5572\n",
      "\n",
      "Accuracy for CART is: 0.946 +/- 0.006\n",
      "execution time is: 0.2585887908935547 seconds\n",
      "             precision    recall  f1-score   support\n",
      "\n",
      "        ham       1.00      1.00      1.00      4825\n",
      "       spam       1.00      1.00      1.00       747\n",
      "\n",
      "avg / total       1.00      1.00      1.00      5572\n",
      "\n",
      "Accuracy for Adaboost_depth1 is: 0.942 +/- 0.006\n",
      "execution time is: 3.6285884380340576 seconds\n",
      "             precision    recall  f1-score   support\n",
      "\n",
      "        ham       0.96      0.98      0.97      4825\n",
      "       spam       0.86      0.72      0.79       747\n",
      "\n",
      "avg / total       0.95      0.95      0.95      5572\n",
      "\n",
      "Accuracy for Adaboost_depth2 is: 0.954 +/- 0.007\n",
      "execution time is: 4.842614650726318 seconds\n",
      "             precision    recall  f1-score   support\n",
      "\n",
      "        ham       0.97      0.99      0.98      4825\n",
      "       spam       0.92      0.84      0.87       747\n",
      "\n",
      "avg / total       0.97      0.97      0.97      5572\n",
      "\n"
     ]
    }
   ],
   "source": [
    "from sklearn.decomposition import TruncatedSVD\n",
    "svd = TruncatedSVD(n_components=5, n_iter=7, random_state=42)\n",
    "truncSvd = svd.fit_transform(X)\n",
    "run_classifiers_with_prediction(clfs, truncSvd,messages['labels'])"
   ]
  },
  {
   "cell_type": "markdown",
   "metadata": {},
   "source": [
    "<b>• Avec TruncatedSVD:</b>\n",
    "On remarque que la moyenne est semblable à l'exécution précedente. De plus, l'écart type a bien dimunier pour tous les algorithmes.\n",
    "Pour Nbayes et KNN, la précision et le recall ont diminué. CART et RF ont toujours une précision et recall égaux à 1.\n",
    "\n",
    "### IV. Détection d’anomalies\n",
    "#### 1. Sur la base de données Mouse"
   ]
  },
  {
   "cell_type": "code",
   "execution_count": 26,
   "metadata": {},
   "outputs": [
    {
     "name": "stdout",
     "output_type": "stream",
     "text": [
      "               X1          X2\n",
      "count  500.000000  500.000000\n",
      "mean     0.505892    0.599706\n",
      "std      0.191763    0.156863\n",
      "min      0.040555    0.138940\n",
      "25%      0.328481    0.469010\n",
      "50%      0.504702    0.629494\n",
      "75%      0.681430    0.735364\n",
      "max      0.916030    0.897028\n",
      "<class 'pandas.core.frame.DataFrame'>\n",
      "RangeIndex: 500 entries, 0 to 499\n",
      "Data columns (total 2 columns):\n",
      "X1    500 non-null float64\n",
      "X2    500 non-null float64\n",
      "dtypes: float64(2)\n",
      "memory usage: 7.9 KB\n",
      "None\n"
     ]
    },
    {
     "data": {
      "image/png": "[encoded data removed]",
      "text/plain": [
       "<matplotlib.figure.Figure at 0x127d0abd588>"
      ]
     },
     "metadata": {},
     "output_type": "display_data"
    },
    {
     "name": "stdout",
     "output_type": "stream",
     "text": [
      "(500,)\n"
     ]
    },
    {
     "data": {
      "image/png": "[encoded data removed]",
      "text/plain": [
       "<matplotlib.figure.Figure at 0x127d0ae20b8>"
      ]
     },
     "metadata": {},
     "output_type": "display_data"
    }
   ],
   "source": [
    "#1. Sur la base de données Mouse\n",
    "points = pd.read_csv('./mouse.txt',sep=' ',names=['X1','X2'])\n",
    "points\n",
    "print(points.describe())\n",
    "print(points.info())\n",
    "plt.scatter(points['X1'], points['X2'])\n",
    "labels = ['X1', 'X2']\n",
    "for label, x, y in zip(labels, points['X1'], points['X2']):\n",
    "    plt.annotate(label, xy=(x, y), textcoords='offset points')\n",
    "plt.show()\n",
    "\n",
    "from sklearn.ensemble import IsolationForest\n",
    "rng = np.random.RandomState(42)\n",
    "clf = IsolationForest(max_samples=100, random_state=rng)\n",
    "clf = clf.fit(points)\n",
    "anomaly_score = clf.decision_function(points)\n",
    "outlier = clf.predict(points)\n",
    "#print(anomaly_score)\n",
    "#print(outlier)\n",
    "print(outlier.shape)\n",
    "#Visualize outliers\n",
    "columns = ['X1','X2']\n",
    "outliers_ = pd.DataFrame(columns=columns)\n",
    "\n",
    "for i in range(500):\n",
    "    if(outlier[i] == -1):\n",
    "        outliers_i = pd.DataFrame([[points['X1'][i], points['X2'][i]]], columns=columns)\n",
    "        outliers_ = outliers_.append(outliers_i, ignore_index=True)\n",
    "outliers_\n",
    "plt.scatter(outliers_['X1'], outliers_['X2'])\n",
    "for label, x, y in zip(labels, outliers_['X1'], outliers_['X2']):\n",
    "    plt.annotate(label, xy=(x, y), textcoords='offset points')\n",
    "plt.show()"
   ]
  },
  {
   "cell_type": "markdown",
   "metadata": {},
   "source": [
    "En considérant que les -1 obtenus dans outlier correspondent à des outliers, on a pû visualiser les points aberrant dans la base de donnée avec la figure ci-dessus.\n",
    "\n",
    "#### 2. Sur le jeu de données des cartes de crédits"
   ]
  },
  {
   "cell_type": "code",
   "execution_count": 28,
   "metadata": {},
   "outputs": [
    {
     "name": "stdout",
     "output_type": "stream",
     "text": [
      "(5492,)\n"
     ]
    }
   ],
   "source": [
    "#2. Sur le jeu de données des cartes de crédits\n",
    "instances = pd.read_csv('./creditcard.csv',sep=',')\n",
    "instances\n",
    "slice1 = instances.loc[instances['Class'] == 0]\n",
    "df_random_5000 = slice1.sample(n=5000)\n",
    "slice2 = instances.loc[instances['Class'] == 1]\n",
    "slice2\n",
    "prepared_data = df_random_5000.append(slice2, ignore_index=True)\n",
    "prepared_data = prepared_data.drop('Time', 1)\n",
    "#Predict\n",
    "Intance_Isolation_Forest=IsolationForest(contamination=0.09)\n",
    "Intance_Isolation_Forest.fit(prepared_data)\n",
    "result=Intance_Isolation_Forest.predict(prepared_data)\n",
    "result[result==-1]=0\n",
    "result=1-result\n",
    "\n",
    "rng = np.random.RandomState(42)\n",
    "clf_credit = IsolationForest(max_samples=100, random_state=rng)\n",
    "clf_credit = clf_credit.fit(prepared_data)\n",
    "anomaly_score_credit = clf_credit.decision_function(prepared_data)\n",
    "outlier_credit = clf_credit.predict(prepared_data)\n",
    "print(outlier_credit.shape)"
   ]
  },
  {
   "cell_type": "markdown",
   "metadata": {},
   "source": [
    "On construit notre matrice de confusion:"
   ]
  },
  {
   "cell_type": "markdown",
   "metadata": {},
   "source": [
    "* En colonne, on a les prédictions\n",
    "* En ligne, on a le statut des instances dans la base de donnée originale."
   ]
  },
  {
   "cell_type": "code",
   "execution_count": 31,
   "metadata": {},
   "outputs": [
    {
     "name": "stdout",
     "output_type": "stream",
     "text": [
      "        Predit Normal  Predit Fraud\n",
      "Normal           4867           130\n",
      "Fraud             133           362\n"
     ]
    }
   ],
   "source": [
    "from sklearn.metrics import confusion_matrix\n",
    "\n",
    "target=prepared_data['Class']\n",
    "prepared_data=prepared_data.astype(bool)\n",
    "target=target.astype(bool)\n",
    "target[target>0]=1\n",
    "\n",
    "conf=pd.DataFrame(confusion_matrix(result,target))\n",
    "conf.columns=['Predit Normal','Predit Fraud']\n",
    "conf.index=['Normal','Fraud']\n",
    "print(conf)"
   ]
  },
  {
   "cell_type": "markdown",
   "metadata": {},
   "source": [
    "On calcule:\n",
    "* sensitivity : TP/(TP + FN ) : 0.97\n",
    "* specificity  : TN/(TN + FP) : 0.77\n",
    "* F1 score: 2TP/(2TP + FP + FN) : 0.978\n",
    "\n",
    "=> ce modèle semble acceptable pour ce jeu de donnée, vu qu'on a un bon F1 score."
   ]
  },
  {
   "cell_type": "markdown",
   "metadata": {},
   "source": [
    "#### 3.Sur le jeu de données des SMS"
   ]
  },
  {
   "cell_type": "code",
   "execution_count": 30,
   "metadata": {},
   "outputs": [
    {
     "name": "stdout",
     "output_type": "stream",
     "text": [
      "(2807,)\n"
     ]
    }
   ],
   "source": [
    "messages = pd.read_csv('./SMSSpamCollection.data',sep='\\t',names=['labels','message'])\n",
    "messages\n",
    "slice1_msg = messages.loc[messages['labels'] == 'ham']\n",
    "slice1_msg\n",
    "msg_random = slice1_msg.sample(n=2787)\n",
    "slice2_msg = messages.loc[messages['labels'] == 'spam']\n",
    "slice2_random = slice2_msg.sample(n=20)\n",
    "slice2_random\n",
    "prepared_data_msg = msg_random.append(slice2_random, ignore_index=True)\n",
    "prepared_data_msg\n",
    "X_msg = vectorizer.fit_transform(prepared_data_msg['message'])\n",
    "target=list(prepared_data_msg['labels'])\n",
    "target=[0 if x=='ham' else 1 for x in target]\n",
    "target = np.copy(target)\n",
    "#Predict\n",
    "Intance_Isolation_Forest=IsolationForest(contamination=0.09)\n",
    "Intance_Isolation_Forest.fit(X_msg)\n",
    "result=Intance_Isolation_Forest.predict(X_msg)\n",
    "result[result==-1]=0\n",
    "result=1-result\n",
    "\n",
    "from sklearn.decomposition import TruncatedSVD\n",
    "svd_msg = TruncatedSVD(n_components=2, n_iter=7, random_state=42)\n",
    "truncSvd_msg = svd_msg.fit_transform(X_msg)\n",
    "truncSvd_msg\n",
    "clf_msg = IsolationForest(max_samples=100, random_state=rng)\n",
    "clf_msg = clf_msg.fit(truncSvd_msg)\n",
    "anomaly_score_msg = clf_msg.decision_function(truncSvd_msg)\n",
    "outlier_msg = clf_msg.predict(truncSvd_msg)\n",
    "print(outlier_msg.shape)"
   ]
  },
  {
   "cell_type": "markdown",
   "metadata": {},
   "source": [
    "On construit notre matrice de confusion pour ce jeu de donnée"
   ]
  },
  {
   "cell_type": "code",
   "execution_count": 33,
   "metadata": {},
   "outputs": [
    {
     "name": "stdout",
     "output_type": "stream",
     "text": [
      "      Predit Ham  Predit Spam\n",
      "Ham         2538           16\n",
      "Spam         249            4\n"
     ]
    }
   ],
   "source": [
    "from sklearn.metrics import confusion_matrix\n",
    "\n",
    "conf=pd.DataFrame(confusion_matrix(result,target))\n",
    "conf.columns=['Predit Ham','Predit Spam']\n",
    "conf.index=['Ham','Spam']\n",
    "print(conf)"
   ]
  },
  {
   "cell_type": "markdown",
   "metadata": {},
   "source": [
    "On calcule:\n",
    "* sensitivity : TP/(TP + FN ) : 0.99\n",
    "* specificity  : TN/(TN + FP) : 0.003\n",
    "* F1 score: 2TP/(2TP + FP + FN) : 0.94\n",
    "\n",
    "=> Pour ce cas aussi, le modèle semble correct pour ce jeu de donnée. On a bien un F1 score élevé.\n",
    "\n",
    "__Conclusion__: L'algorithme utilisé semble bien performant vu qu'on l'a testé sur différents jeu de donnée et on a obtenu un bon résultat. Mais, ceci ne nous permet toujours pas de généraliser son fonctionnement vu que chaque algorithme a une performance dépendante des jeux de données utilisés."
   ]
  },
  {
   "cell_type": "code",
   "execution_count": null,
   "metadata": {
    "collapsed": true
   },
   "outputs": [],
   "source": []
  }
 ],
 "metadata": {
  "kernelspec": {
   "display_name": "Python 3",
   "language": "python",
   "name": "python3"
  },
  "language_info": {
   "codemirror_mode": {
    "name": "ipython",
    "version": 3
   },
   "file_extension": ".py",
   "mimetype": "text/x-python",
   "name": "python",
   "nbconvert_exporter": "python",
   "pygments_lexer": "ipython3",
   "version": "3.6.2"
  }
 },
 "nbformat": 4,
 "nbformat_minor": 2
}
